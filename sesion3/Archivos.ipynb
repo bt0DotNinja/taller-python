{
 "cells": [
  {
   "cell_type": "markdown",
   "metadata": {},
   "source": [
    "# Leer Archivos\n",
    "\n",
    "Trabajar con archivos en Python es realmente facil y se puede resumir en la siguiente lista:\n",
    "\n",
    "* Crear un objeto de tipo file usando open()\n",
    "* Leer/escribir/moverte en el archivo\n",
    "* Cerrar con el metodo close()\n",
    "\n",
    "Revisemos los detalles de cada paso y para esto suponemos que tenemos el archivo \"_addnpf.asm_\" y creamos el objeto de tipo file como sigue:"
   ]
  },
  {
   "cell_type": "code",
   "execution_count": 48,
   "metadata": {
    "collapsed": true
   },
   "outputs": [],
   "source": [
    "f = open('addnpf.asm', 'r+')"
   ]
  },
  {
   "cell_type": "markdown",
   "metadata": {},
   "source": [
    "open() recibe dos argumentos:\n",
    "* filename (Nombre de archivo) ya sea como una cadena fija o una variable de tipo cadena\n",
    "* Modo, es decir como se abrira el archivo: \n",
    "    * 'r' para solo lectura.\n",
    "    * 'w' para solo escritura, este modo borra el contenido del archivo si ya existe.\n",
    "    * 'a' agrega contenido al final del archivo\n",
    "    * 'r+' que es para lectura y escritura\n",
    "    * Modificador 'b' que realiza la lectura o escritura en formato binario.\n",
    "\n",
    "> Modo no es un argumento obligatorio, por default abre los archivos como de lectura"
   ]
  },
  {
   "cell_type": "markdown",
   "metadata": {},
   "source": [
    "## Lectura\n",
    "\n",
    "Podemos leer el archivo completo usando el metodo read() sin argumentos o solo una fraccion con un argumento numerico que indica cuantos caracteres leer, por ejemplo:"
   ]
  },
  {
   "cell_type": "code",
   "execution_count": 49,
   "metadata": {
    "collapsed": false
   },
   "outputs": [
    {
     "data": {
      "text/plain": [
       "'!Alejandra'"
      ]
     },
     "execution_count": 49,
     "metadata": {},
     "output_type": "execute_result"
    }
   ],
   "source": [
    "f.read(10)"
   ]
  },
  {
   "cell_type": "markdown",
   "metadata": {},
   "source": [
    "Ahora los siguientes 10"
   ]
  },
  {
   "cell_type": "code",
   "execution_count": 50,
   "metadata": {
    "collapsed": false
   },
   "outputs": [
    {
     "data": {
      "text/plain": [
       "' Rodriguez'"
      ]
     },
     "execution_count": 50,
     "metadata": {},
     "output_type": "execute_result"
    }
   ],
   "source": [
    "f.read(10)"
   ]
  },
  {
   "cell_type": "markdown",
   "metadata": {},
   "source": [
    "Y finalmente el resto del archivo usando el read() sin argumentos:"
   ]
  },
  {
   "cell_type": "code",
   "execution_count": 51,
   "metadata": {
    "collapsed": false
   },
   "outputs": [
    {
     "data": {
      "text/plain": [
       "' Sanchez Ing. Computacion\\n\\t.begin\\n\\t.macro push arg\\n\\t\\taddcc %r14, -4, %r14\\n\\t\\tst arg, %r14\\t\\n\\t.endmacro\\n\\t.macro pop arg\\n\\t\\tld [%r14], arg\\n\\t\\taddcc %r14, 4, %r14\\n\\t.endmacro\\n\\t.org 2048\\nmain:\\tld [stack], %r14\\n\\tld [x], %r1  \\t\\t!carga de operando 1\\n\\tld [y], %r2\\t\\t!carga de operando 2\\n\\tld [mase], %r3\\t\\t!carga de mascara para exponente\\n\\tld [masm], %r4\\t\\t!carga de mascara para mantiza\\n\\tld [biti], %r5\\t\\t!carga de mascara para bit implicito\\n\\tsrl %r1, 31, %r6\\t!separacion de signo, op1\\n\\tsrl %r2, 31, %r7\\t!separacion de signo, op2\\n\\tandcc %r3, %r1, %r8\\t!separacion del exponente, op1\\n\\tsrl %r8, 23, %r8\\t!colocacion del exponente en la parte mas baja\\n\\tandcc %r3, %r2, %r9\\t!separacion del exponente, op2\\n\\tsrl %r9, 23, %r9\\t!colocacion del exponente en la parte mas baja\\n\\tandcc %r4, %r1, %r10\\t!separacion de la mantiza, op1\\n\\torcc %r10, %r5, %r10\\t!clocacion del bit implicito\\n\\tandcc %r4, %r2, %r11\\t!separacion de la mantiza, op2\\n\\torcc %r11, %r5, %r11\\t!colocacion del bit implicito\\n\\torncc %r0,%r8, %r12\\t!complemento a 1 del exponente del op1 \\n\\taddcc %r12, 1, %r12\\t!complemento a 2 del exponente del op1 \\n\\tld [nega], %r16\\t\\t!carga los 8 bits correspondientes al signo extendido\\n\\tld [sig], %r17\\t\\t!carga un -1 para identificar si algun operando es negativo\\n\\taddcc %r9,%r12,%r13\\t!diferencia de exponentes, exp2-exp1\\n\\tbneg diferencia2\\t!salta si el resultado de la resta es negativo\\n\\tsrl %r10, %r13, %r10\\t!corrimiento de la mantiza, op1\\t\\n\\torcc %r9, %r0, %r21\\t!coloca en el reg 21 el exponente que sera empaquetado\\n\\taddcc %r17, %r6, %r0\\t!identificacion del signo del op1\\n\\tbe op1nega\\t\\t!salta si el signo del op1 es negativo\\n\\taddcc %r17, %r7, %r0\\t!identificacion del signo del op2\\n\\tbe op2nega\\t\\t!salta si el signo del op2 es negativo \\n\\taddcc %r10, %r11, %r18\\t!suma de mantizas\\n\\tpush %r15\\t\\t!almacena en la pila el valor pc\\n\\tpush %r18\\t\\t!almacena en la pila el resultado de la suma\\n\\tcall normal\\t\\t!llama a la subrutina para normalizar\\n\\tpop %r15\\t\\t!recupera el pc\\n\\tjmpl %r15+4, %r0\\t!return\\ndiferencia2:  \\t\\t\\t\\n\\torncc %r0,%r9,%r12 \\t!complemento a 1 del exponente del op2\\n\\taddcc %r12, 1, %r12\\t!complemento a 2 del exponente del op2 \\n\\taddcc %r8, %r12, %r13\\t!diferencia de exponentes, exp1-exp2\\n\\tsrl %r11, %r13, %r11\\t!corrimiento de la mantiza, op2\\n\\torcc %r8, %r0, %r21\\t!coloca en el reg 21 el exponente que sera empaquetado \\n\\taddcc %r17, %r6, %r0\\t!identificacion del signo del op1\\n\\tbe op1nega\\t\\t!salta si el signo del op1 es negativo\\n\\taddcc %r17, %r7, %r0\\t!identificacion del signo del op2\\n\\tbe op2nega\\t\\t!salta si el signo del op2 es negativo \\n\\taddcc %r10, %r11, %r18\\t!suma de mantizas\\n\\tpush %r15\\t\\t!almacena en la pila el valor del pc \\n\\tpush %r18\\t\\t!almacena en la pila el resultado de la suma\\n\\tcall normal\\t\\t!llama a la subrutina para normalizar \\n\\tpop %r15\\t\\t!recupera el pc\\n\\tjmpl %r15+4, %r0\\t!return \\nop1nega:\\n\\torncc %r0, %r10, %r10\\t!mantiza del op1 en complemento a 1\\n\\taddcc %r10, 1, %r10\\t!mantiza del op1 en complemento a 2\\n\\torcc %r16, %r10,%r10\\t!extencion de signo \\n\\taddcc %r17, %r7, %r0\\t!identificacion de signo del op2\\n\\tbe op2nega\\t\\t!salta si el signo del op2 es negativo\\n\\taddcc %r10,%r11,%r18\\t!suma de mantizas\\n\\tpush %r15\\t\\t!almacena en la pila el valor del pc \\n\\tpush %r18\\t\\t!almacena en la pila el resultado de la suma\\n\\tcall normal\\t\\t!llama a la subrutina para normalizar\\n\\tpop %r15\\t\\t!recupera el pc\\n\\tjmpl %r15+4, %r0\\t!return \\nop2nega:\\n\\torncc %r0, %r11, %r11\\t!mantiza del op2 en complemento a 1\\n\\taddcc %r11, 1, %r11\\t!mantiza del op2 en complemento a 2\\n\\torcc %r16, %r11, %r11 \\t!extencion de signo\\n\\taddcc %r10, %r11, %r18\\t!suma de mantizas\\n\\tpush %r15\\t\\t!almacena en la pila el valor del pc\\n\\tpush %r18\\t\\t!almacena en la pila el resultado de la suma\\n\\tcall normal\\t\\t!llama a la subrutina para normalizar\\n\\tpop %r15\\t\\t!recupera el pc\\n\\tjmpl %r15+4, %r0\\t!return\\nnormal:\\n\\tpop %r19\\t\\t!sacar de la pila la suma\\n\\tsrl %r19, 24, %r20\\t!extraer el signo de la suma\\n\\tandcc %r0, %r22, %r22\\t!cargar un 0 en el reg 22\\n\\torcc %r22, 24, %r22\\t!cargar un 24 en el reg 22\\n\\torncc %r0, %r22, %r22\\t!complemento a 1 del 24\\n\\taddcc %r22, 1, %r22\\t!complemento a 2 del 24\\n\\tba prueba\\t\\t!inicio del ciclo\\nsi:\\taddcc %r21, %r21, %r21\\t!corrimiento del exponente a la izq\\nprueba:\\taddcc %r22, 1, %r22\\t!condicion\\n\\tbneg si\\t\\t\\t!salto al inicio del ciclo\\n\\taddcc %r17, %r20, %r0\\t!identifica si el signo de la suma es negativo\\n\\tbe signega\\t\\t!salta si la suma es negativa\\n\\tandcc %r0, %r22, %r22\\t!cargar un 0 en el reg 22\\n\\torcc %r22, 32, %r22\\t!cargar un 32 en el reg 22\\n\\torncc %r0, %r22, %r22\\t!complemento a 1 del 32\\n\\taddcc %r22, 1, %r22\\t!complemento a 2 del 32\\n\\tba prueba1\\t\\t!inicio del ciclo\\nsi1:\\taddcc %r20, %r20, %r20\\t!corrimiento del exponente a la izq\\nprueba1:addcc %r22, 1, %r22\\t!condicion\\n\\tbneg si1\\t\\t!salto al inicio del ciclo\\n\\torcc %r20, %r21, %r21\\t!une el signo y el exponente\\n\\tandcc %r4, %r19, %r23\\t!extrae la mantiza que sera empaquetada\\n\\torcc %r21, %r23, %r24\\t!numero empaquetado\\n\\tst %r24, [z]\\t\\t!lleva a la memoria el numero empaquetado\\n\\tjmpl %r15+4, %r0\\t!return\\nsignega: \\n\\tandcc %r0, %r22, %r22\\t!cargar un 0 en el reg 22\\n\\torcc %r22, 32, %r22\\t!cargar un 31 en el reg 22\\n\\torncc %r0, %r22, %r22\\t!complemento a 1 del 31\\n\\taddcc %r22, 1, %r22\\t!complemento a 2 del 31\\n\\tba prueba2\\t\\t!inicio del ciclo\\nsi2:\\taddcc %r20, %r20, %r20\\t!corrimiento del exponente a la izq\\nprueba2:addcc %r22, 1, %r22\\t!condicion\\n\\tbneg si2\\t\\t!salto al inicio del ciclo\\n\\torcc %r20, %r21, %r21\\t!une el signo con el exponente\\n\\tandcc %r4, %r19, %r23\\t!extrae la mantiza \\n\\torncc %r0, %r23, %r23\\t!mantiza en complemento a 1\\n\\taddcc %r23, 1, %r23\\t!mantiza en complemento a 2\\n\\torcc %r21, %r23, %r24\\t!numero empaquetado\\n\\tst %r24, [z]\\t\\t!lleva a la memoria el numero empaquetado  \\n \\tjmpl %r15+4, %r0\\t!return\\n\\n\\tx: 0x40A00000\\n\\ty: 0xBF400000\\n\\tz: 0\\n\\tmase: 0x7F800000\\n\\tmasm: 0x007FFFFF\\n\\tbiti: 0x00800000\\n\\tsig: 0xFFFFFFFF\\n\\tnega: 0xFF000000\\n\\tstack: 0  \\t\\n\\t.end\\n'"
      ]
     },
     "execution_count": 51,
     "metadata": {},
     "output_type": "execute_result"
    }
   ],
   "source": [
    "f.read()"
   ]
  },
  {
   "cell_type": "markdown",
   "metadata": {},
   "source": [
    "Para nuestros fines esto no es del todo util, pero tenemos metodos que si nos ayudaran, como readline(), regresamos al inicio del archivo y probamos readline()"
   ]
  },
  {
   "cell_type": "code",
   "execution_count": 52,
   "metadata": {
    "collapsed": false
   },
   "outputs": [
    {
     "data": {
      "text/plain": [
       "'!Alejandra Rodriguez Sanchez Ing. Computacion\\n'"
      ]
     },
     "execution_count": 52,
     "metadata": {},
     "output_type": "execute_result"
    }
   ],
   "source": [
    "f.seek(0,0) #Regresar al inicio de archivo, lo explico despues\n",
    "f.readline()"
   ]
  },
  {
   "cell_type": "markdown",
   "metadata": {},
   "source": [
    "Ahora para el ensamblador usaremos un ciclo sencillo:"
   ]
  },
  {
   "cell_type": "code",
   "execution_count": 53,
   "metadata": {
    "collapsed": false
   },
   "outputs": [
    {
     "name": "stdout",
     "output_type": "stream",
     "text": [
      "\t.begin\n",
      "\n",
      "\t.macro push arg\n",
      "\n",
      "\t\taddcc %r14, -4, %r14\n",
      "\n",
      "\t\tst arg, %r14\t\n",
      "\n",
      "\t.endmacro\n",
      "\n",
      "\t.macro pop arg\n",
      "\n",
      "\t\tld [%r14], arg\n",
      "\n",
      "\t\taddcc %r14, 4, %r14\n",
      "\n",
      "\t.endmacro\n",
      "\n",
      "\t.org 2048\n",
      "\n",
      "main:\tld [stack], %r14\n",
      "\n",
      "\tld [x], %r1  \t\t!carga de operando 1\n",
      "\n",
      "\tld [y], %r2\t\t!carga de operando 2\n",
      "\n",
      "\tld [mase], %r3\t\t!carga de mascara para exponente\n",
      "\n",
      "\tld [masm], %r4\t\t!carga de mascara para mantiza\n",
      "\n",
      "\tld [biti], %r5\t\t!carga de mascara para bit implicito\n",
      "\n",
      "\tsrl %r1, 31, %r6\t!separacion de signo, op1\n",
      "\n",
      "\tsrl %r2, 31, %r7\t!separacion de signo, op2\n",
      "\n",
      "\tandcc %r3, %r1, %r8\t!separacion del exponente, op1\n",
      "\n",
      "\tsrl %r8, 23, %r8\t!colocacion del exponente en la parte mas baja\n",
      "\n",
      "\tandcc %r3, %r2, %r9\t!separacion del exponente, op2\n",
      "\n",
      "\tsrl %r9, 23, %r9\t!colocacion del exponente en la parte mas baja\n",
      "\n",
      "\tandcc %r4, %r1, %r10\t!separacion de la mantiza, op1\n",
      "\n",
      "\torcc %r10, %r5, %r10\t!clocacion del bit implicito\n",
      "\n",
      "\tandcc %r4, %r2, %r11\t!separacion de la mantiza, op2\n",
      "\n",
      "\torcc %r11, %r5, %r11\t!colocacion del bit implicito\n",
      "\n",
      "\torncc %r0,%r8, %r12\t!complemento a 1 del exponente del op1 \n",
      "\n",
      "\taddcc %r12, 1, %r12\t!complemento a 2 del exponente del op1 \n",
      "\n",
      "\tld [nega], %r16\t\t!carga los 8 bits correspondientes al signo extendido\n",
      "\n",
      "\tld [sig], %r17\t\t!carga un -1 para identificar si algun operando es negativo\n",
      "\n",
      "\taddcc %r9,%r12,%r13\t!diferencia de exponentes, exp2-exp1\n",
      "\n",
      "\tbneg diferencia2\t!salta si el resultado de la resta es negativo\n",
      "\n",
      "\tsrl %r10, %r13, %r10\t!corrimiento de la mantiza, op1\t\n",
      "\n",
      "\torcc %r9, %r0, %r21\t!coloca en el reg 21 el exponente que sera empaquetado\n",
      "\n",
      "\taddcc %r17, %r6, %r0\t!identificacion del signo del op1\n",
      "\n",
      "\tbe op1nega\t\t!salta si el signo del op1 es negativo\n",
      "\n",
      "\taddcc %r17, %r7, %r0\t!identificacion del signo del op2\n",
      "\n",
      "\tbe op2nega\t\t!salta si el signo del op2 es negativo \n",
      "\n",
      "\taddcc %r10, %r11, %r18\t!suma de mantizas\n",
      "\n",
      "\tpush %r15\t\t!almacena en la pila el valor pc\n",
      "\n",
      "\tpush %r18\t\t!almacena en la pila el resultado de la suma\n",
      "\n",
      "\tcall normal\t\t!llama a la subrutina para normalizar\n",
      "\n",
      "\tpop %r15\t\t!recupera el pc\n",
      "\n",
      "\tjmpl %r15+4, %r0\t!return\n",
      "\n",
      "diferencia2:  \t\t\t\n",
      "\n",
      "\torncc %r0,%r9,%r12 \t!complemento a 1 del exponente del op2\n",
      "\n",
      "\taddcc %r12, 1, %r12\t!complemento a 2 del exponente del op2 \n",
      "\n",
      "\taddcc %r8, %r12, %r13\t!diferencia de exponentes, exp1-exp2\n",
      "\n",
      "\tsrl %r11, %r13, %r11\t!corrimiento de la mantiza, op2\n",
      "\n",
      "\torcc %r8, %r0, %r21\t!coloca en el reg 21 el exponente que sera empaquetado \n",
      "\n",
      "\taddcc %r17, %r6, %r0\t!identificacion del signo del op1\n",
      "\n",
      "\tbe op1nega\t\t!salta si el signo del op1 es negativo\n",
      "\n",
      "\taddcc %r17, %r7, %r0\t!identificacion del signo del op2\n",
      "\n",
      "\tbe op2nega\t\t!salta si el signo del op2 es negativo \n",
      "\n",
      "\taddcc %r10, %r11, %r18\t!suma de mantizas\n",
      "\n",
      "\tpush %r15\t\t!almacena en la pila el valor del pc \n",
      "\n",
      "\tpush %r18\t\t!almacena en la pila el resultado de la suma\n",
      "\n",
      "\tcall normal\t\t!llama a la subrutina para normalizar \n",
      "\n",
      "\tpop %r15\t\t!recupera el pc\n",
      "\n",
      "\tjmpl %r15+4, %r0\t!return \n",
      "\n",
      "op1nega:\n",
      "\n",
      "\torncc %r0, %r10, %r10\t!mantiza del op1 en complemento a 1\n",
      "\n",
      "\taddcc %r10, 1, %r10\t!mantiza del op1 en complemento a 2\n",
      "\n",
      "\torcc %r16, %r10,%r10\t!extencion de signo \n",
      "\n",
      "\taddcc %r17, %r7, %r0\t!identificacion de signo del op2\n",
      "\n",
      "\tbe op2nega\t\t!salta si el signo del op2 es negativo\n",
      "\n",
      "\taddcc %r10,%r11,%r18\t!suma de mantizas\n",
      "\n",
      "\tpush %r15\t\t!almacena en la pila el valor del pc \n",
      "\n",
      "\tpush %r18\t\t!almacena en la pila el resultado de la suma\n",
      "\n",
      "\tcall normal\t\t!llama a la subrutina para normalizar\n",
      "\n",
      "\tpop %r15\t\t!recupera el pc\n",
      "\n",
      "\tjmpl %r15+4, %r0\t!return \n",
      "\n",
      "op2nega:\n",
      "\n",
      "\torncc %r0, %r11, %r11\t!mantiza del op2 en complemento a 1\n",
      "\n",
      "\taddcc %r11, 1, %r11\t!mantiza del op2 en complemento a 2\n",
      "\n",
      "\torcc %r16, %r11, %r11 \t!extencion de signo\n",
      "\n",
      "\taddcc %r10, %r11, %r18\t!suma de mantizas\n",
      "\n",
      "\tpush %r15\t\t!almacena en la pila el valor del pc\n",
      "\n",
      "\tpush %r18\t\t!almacena en la pila el resultado de la suma\n",
      "\n",
      "\tcall normal\t\t!llama a la subrutina para normalizar\n",
      "\n",
      "\tpop %r15\t\t!recupera el pc\n",
      "\n",
      "\tjmpl %r15+4, %r0\t!return\n",
      "\n",
      "normal:\n",
      "\n",
      "\tpop %r19\t\t!sacar de la pila la suma\n",
      "\n",
      "\tsrl %r19, 24, %r20\t!extraer el signo de la suma\n",
      "\n",
      "\tandcc %r0, %r22, %r22\t!cargar un 0 en el reg 22\n",
      "\n",
      "\torcc %r22, 24, %r22\t!cargar un 24 en el reg 22\n",
      "\n",
      "\torncc %r0, %r22, %r22\t!complemento a 1 del 24\n",
      "\n",
      "\taddcc %r22, 1, %r22\t!complemento a 2 del 24\n",
      "\n",
      "\tba prueba\t\t!inicio del ciclo\n",
      "\n",
      "si:\taddcc %r21, %r21, %r21\t!corrimiento del exponente a la izq\n",
      "\n",
      "prueba:\taddcc %r22, 1, %r22\t!condicion\n",
      "\n",
      "\tbneg si\t\t\t!salto al inicio del ciclo\n",
      "\n",
      "\taddcc %r17, %r20, %r0\t!identifica si el signo de la suma es negativo\n",
      "\n",
      "\tbe signega\t\t!salta si la suma es negativa\n",
      "\n",
      "\tandcc %r0, %r22, %r22\t!cargar un 0 en el reg 22\n",
      "\n",
      "\torcc %r22, 32, %r22\t!cargar un 32 en el reg 22\n",
      "\n",
      "\torncc %r0, %r22, %r22\t!complemento a 1 del 32\n",
      "\n",
      "\taddcc %r22, 1, %r22\t!complemento a 2 del 32\n",
      "\n",
      "\tba prueba1\t\t!inicio del ciclo\n",
      "\n",
      "si1:\taddcc %r20, %r20, %r20\t!corrimiento del exponente a la izq\n",
      "\n",
      "prueba1:addcc %r22, 1, %r22\t!condicion\n",
      "\n",
      "\tbneg si1\t\t!salto al inicio del ciclo\n",
      "\n",
      "\torcc %r20, %r21, %r21\t!une el signo y el exponente\n",
      "\n",
      "\tandcc %r4, %r19, %r23\t!extrae la mantiza que sera empaquetada\n",
      "\n",
      "\torcc %r21, %r23, %r24\t!numero empaquetado\n",
      "\n",
      "\tst %r24, [z]\t\t!lleva a la memoria el numero empaquetado\n",
      "\n",
      "\tjmpl %r15+4, %r0\t!return\n",
      "\n",
      "signega: \n",
      "\n",
      "\tandcc %r0, %r22, %r22\t!cargar un 0 en el reg 22\n",
      "\n",
      "\torcc %r22, 32, %r22\t!cargar un 31 en el reg 22\n",
      "\n",
      "\torncc %r0, %r22, %r22\t!complemento a 1 del 31\n",
      "\n",
      "\taddcc %r22, 1, %r22\t!complemento a 2 del 31\n",
      "\n",
      "\tba prueba2\t\t!inicio del ciclo\n",
      "\n",
      "si2:\taddcc %r20, %r20, %r20\t!corrimiento del exponente a la izq\n",
      "\n",
      "prueba2:addcc %r22, 1, %r22\t!condicion\n",
      "\n",
      "\tbneg si2\t\t!salto al inicio del ciclo\n",
      "\n",
      "\torcc %r20, %r21, %r21\t!une el signo con el exponente\n",
      "\n",
      "\tandcc %r4, %r19, %r23\t!extrae la mantiza \n",
      "\n",
      "\torncc %r0, %r23, %r23\t!mantiza en complemento a 1\n",
      "\n",
      "\taddcc %r23, 1, %r23\t!mantiza en complemento a 2\n",
      "\n",
      "\torcc %r21, %r23, %r24\t!numero empaquetado\n",
      "\n",
      "\tst %r24, [z]\t\t!lleva a la memoria el numero empaquetado  \n",
      "\n",
      " \tjmpl %r15+4, %r0\t!return\n",
      "\n",
      "\n",
      "\n",
      "\tx: 0x40A00000\n",
      "\n",
      "\ty: 0xBF400000\n",
      "\n",
      "\tz: 0\n",
      "\n",
      "\tmase: 0x7F800000\n",
      "\n",
      "\tmasm: 0x007FFFFF\n",
      "\n",
      "\tbiti: 0x00800000\n",
      "\n",
      "\tsig: 0xFFFFFFFF\n",
      "\n",
      "\tnega: 0xFF000000\n",
      "\n",
      "\tstack: 0  \t\n",
      "\n",
      "\t.end\n",
      "\n"
     ]
    }
   ],
   "source": [
    "for linea in f:\n",
    "    print(linea)"
   ]
  },
  {
   "cell_type": "markdown",
   "metadata": {},
   "source": [
    "Esta no es la unica manera, pero es muy eficiente en memoria y de momento es la que te recomiendo.\n",
    "\n",
    "hay otros metodos utiles como readlines(), que te genera una lista conteniendo cada linea del archivo, pero pues traeriamos el archivo completo a memoria, lo que no es necesario en nuestro caso.\n",
    "\n",
    "## Escritura\n",
    "\n",
    "La escritura es tambien muy sencilla, se basa en la idea de escribir cadenas con write()"
   ]
  },
  {
   "cell_type": "code",
   "execution_count": 54,
   "metadata": {
    "collapsed": false
   },
   "outputs": [
    {
     "data": {
      "text/plain": [
       "'!Alejandra Rodriguez Sanchez Ing. Computacion\\n'"
      ]
     },
     "execution_count": 54,
     "metadata": {},
     "output_type": "execute_result"
    }
   ],
   "source": [
    "f.seek(0,0)\n",
    "f.readline()"
   ]
  },
  {
   "cell_type": "markdown",
   "metadata": {},
   "source": [
    "Ahora re escribiremos esta linea:"
   ]
  },
  {
   "cell_type": "code",
   "execution_count": 55,
   "metadata": {
    "collapsed": false
   },
   "outputs": [
    {
     "data": {
      "text/plain": [
       "42"
      ]
     },
     "execution_count": 55,
     "metadata": {},
     "output_type": "execute_result"
    }
   ],
   "source": [
    "f.seek(0,0)\n",
    "f.write(\"!AleAle Rodriguez Sanchez Ing. Computacion\")"
   ]
  },
  {
   "cell_type": "markdown",
   "metadata": {},
   "source": [
    "Y revisamos:"
   ]
  },
  {
   "cell_type": "code",
   "execution_count": 56,
   "metadata": {
    "collapsed": false
   },
   "outputs": [
    {
     "data": {
      "text/plain": [
       "'!AleAle Rodriguez Sanchez Ing. Computacionion\\n'"
      ]
     },
     "execution_count": 56,
     "metadata": {},
     "output_type": "execute_result"
    }
   ],
   "source": [
    "f.seek(0,0)\n",
    "f.readline()"
   ]
  },
  {
   "cell_type": "markdown",
   "metadata": {},
   "source": [
    "## Moverse en el archivo\n",
    "En este caso el metodo seek() nos permite cambiar la posicion donde estamos leyendo o escribiendo en el archivo, seek() recibe dos argumentos:\n",
    "\n",
    "* offset: cuantas posiciones debe recorrer.\n",
    "* from_what: desde donde:\n",
    "    * 0 significa desde el inicio del archivo\n",
    "    * 1 desde la posicion actual\n",
    "    * 2 Desde el fin del archivo\n",
    "    \n",
    "Por ejemplo el siguiente seek nos envia al inicio del archivo"
   ]
  },
  {
   "cell_type": "code",
   "execution_count": 57,
   "metadata": {
    "collapsed": false
   },
   "outputs": [
    {
     "data": {
      "text/plain": [
       "0"
      ]
     },
     "execution_count": 57,
     "metadata": {},
     "output_type": "execute_result"
    }
   ],
   "source": [
    "f.seek(0,0)"
   ]
  },
  {
   "cell_type": "code",
   "execution_count": 58,
   "metadata": {
    "collapsed": false
   },
   "outputs": [
    {
     "data": {
      "text/plain": [
       "'!AleAle Rodriguez Sanchez Ing. Computacionion\\n'"
      ]
     },
     "execution_count": 58,
     "metadata": {},
     "output_type": "execute_result"
    }
   ],
   "source": [
    "f.readline()"
   ]
  },
  {
   "cell_type": "markdown",
   "metadata": {},
   "source": [
    "tell() nos ayuda a saber donde estamos parados en el archivo, siempre visto desde el inicio, supongamos yo solo quiero leer Rodriguez al inicio del archivo"
   ]
  },
  {
   "cell_type": "code",
   "execution_count": 59,
   "metadata": {
    "collapsed": false
   },
   "outputs": [
    {
     "data": {
      "text/plain": [
       "8"
      ]
     },
     "execution_count": 59,
     "metadata": {},
     "output_type": "execute_result"
    }
   ],
   "source": [
    "f.seek(8,0)"
   ]
  },
  {
   "cell_type": "code",
   "execution_count": 60,
   "metadata": {
    "collapsed": false
   },
   "outputs": [
    {
     "data": {
      "text/plain": [
       "8"
      ]
     },
     "execution_count": 60,
     "metadata": {},
     "output_type": "execute_result"
    }
   ],
   "source": [
    "f.tell()"
   ]
  },
  {
   "cell_type": "code",
   "execution_count": 61,
   "metadata": {
    "collapsed": false
   },
   "outputs": [
    {
     "data": {
      "text/plain": [
       "'Rodriguez'"
      ]
     },
     "execution_count": 61,
     "metadata": {},
     "output_type": "execute_result"
    }
   ],
   "source": [
    "f.read(9)"
   ]
  },
  {
   "cell_type": "markdown",
   "metadata": {},
   "source": [
    "### Cerrar archivo\n",
    "\n",
    "Sencillamente usas el metodo close()"
   ]
  },
  {
   "cell_type": "code",
   "execution_count": 62,
   "metadata": {
    "collapsed": true
   },
   "outputs": [],
   "source": [
    "f.close()"
   ]
  },
  {
   "cell_type": "markdown",
   "metadata": {},
   "source": [
    "Espero que con esto tengamos las cosas basicas de manejo de archivos, lo que sigue es generar pruebas automatizadas para verificar la validez de nuestro codigo, aunque ya tenemos los elementos necesarios para crear el ensamblador"
   ]
  }
 ],
 "metadata": {
  "kernelspec": {
   "display_name": "Python 3",
   "language": "python",
   "name": "python3"
  },
  "language_info": {
   "codemirror_mode": {
    "name": "ipython",
    "version": 3
   },
   "file_extension": ".py",
   "mimetype": "text/x-python",
   "name": "python",
   "nbconvert_exporter": "python",
   "pygments_lexer": "ipython3",
   "version": "3.5.3"
  }
 },
 "nbformat": 4,
 "nbformat_minor": 2
}
